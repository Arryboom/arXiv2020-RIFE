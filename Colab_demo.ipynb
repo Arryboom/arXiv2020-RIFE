{
  "nbformat": 4,
  "nbformat_minor": 0,
  "metadata": {
    "colab": {
      "name": "Untitled0.ipynb",
      "provenance": [],
      "authorship_tag": "ABX9TyPY2zVgKwkQq2vLt4EVYmiC",
      "include_colab_link": true
    },
    "kernelspec": {
      "name": "python3",
      "display_name": "Python 3"
    },
    "accelerator": "GPU"
  },
  "cells": [
    {
      "cell_type": "markdown",
      "metadata": {
        "id": "view-in-github",
        "colab_type": "text"
      },
      "source": [
        "<a href=\"https://colab.research.google.com/github/hzwer/arXiv2020-RIFE/blob/main/Video_2x.ipynb\" target=\"_parent\"><img src=\"https://colab.research.google.com/assets/colab-badge.svg\" alt=\"Open In Colab\"/></a>"
      ]
    },
    {
      "cell_type": "code",
      "metadata": {
        "id": "FypCcZkNNt2p"
      },
      "source": [
        "!git clone https://github.com/hzwer/arXiv2020-RIFE"
      ],
      "execution_count": null,
      "outputs": []
    },
    {
      "cell_type": "code",
      "metadata": {
        "id": "1wysVHxoN54f"
      },
      "source": [
        "!gdown --id 1c1R7iF-ypN6USo-D2YH_ORtaH3tukSlo\n",
        "!7z e RIFE_trained_model.zip"
      ],
      "execution_count": null,
      "outputs": []
    },
    {
      "cell_type": "code",
      "metadata": {
        "id": "AhbHfRBJRAUt"
      },
      "source": [
        "!mkdir /content/arXiv2020-RIFE/train_log\n",
        "!mv *.pkl /content/arXiv2020-RIFE/train_log/\n",
        "%cd /content/arXiv2020-RIFE/\n",
        "!gdown --id 1i3xlKb7ax7Y70khcTcuePi6E7crO_dFc"
      ],
      "execution_count": null,
      "outputs": []
    },
    {
      "cell_type": "markdown",
      "metadata": {
        "id": "rirngW5uRMdg"
      },
      "source": [
        "Please upload your video to content/arXiv2020-RIFE/video.mp4, or use our demo video."
      ]
    },
    {
      "cell_type": "code",
      "metadata": {
        "id": "dnLn4aHHPzN3"
      },
      "source": [
        "!nvidia-smi\n",
        "!python3 inference_mp4_4x.py --video demo.mp4 --montage --fps=60"
      ],
      "execution_count": null,
      "outputs": []
    },
    {
      "cell_type": "markdown",
      "metadata": {
        "id": "77KK6lxHgJhf"
      },
      "source": [
        "Our demo.mp4 is 24FPS. So 4X and run it under 60FPS will provide a slomo effect. You can adjust the parameters for your own perference."
      ]
    },
    {
      "cell_type": "code",
      "metadata": {
        "id": "0zIBbVE3UfUD"
      },
      "source": [
        "from IPython.display import display, Image\n",
        "import moviepy.editor as mpy\n",
        "display(mpy.ipython_display('demo_2x.mp4', height=256, max_duration=100.))"
      ],
      "execution_count": null,
      "outputs": []
    }
  ]
}